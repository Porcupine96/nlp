{
 "cells": [
  {
   "cell_type": "code",
   "execution_count": 6,
   "metadata": {},
   "outputs": [],
   "source": [
    "import pickle\n",
    "\n",
    "from util import read_bills\n",
    "from regex import regex\n",
    "from http.client import HTTPConnection"
   ]
  },
  {
   "cell_type": "code",
   "execution_count": 58,
   "metadata": {},
   "outputs": [],
   "source": [
    "bills = read_bills('../lab2/data_sample')"
   ]
  },
  {
   "cell_type": "code",
   "execution_count": 59,
   "metadata": {},
   "outputs": [],
   "source": [
    "connection = HTTPConnection('127.0.0.1:9200')\n",
    "headers = {'Content-type': 'text/plain'}"
   ]
  },
  {
   "cell_type": "code",
   "execution_count": 60,
   "metadata": {},
   "outputs": [],
   "source": [
    "def request_tagging(bill_content):\n",
    "    body = bill_content.encode('utf-8')\n",
    "    connection.request('POST', '/', body, headers)\n",
    "    response = connection.getresponse()\n",
    "    return response.read().decode('utf-8')\n",
    "\n",
    "\n",
    "def tagged_to_tokens(tags):\n",
    "    pattern = r'(?=^(\\p{L}+)).*?\\n\\s(\\p{L}*)\\s(\\p{L}*)'\n",
    "    results = list(regex.finditer(pattern, tags, flags=regex.MULTILINE))\n",
    "    return ['{0}:{1}'.format(r.group(2), r.group(3)) for r in results]"
   ]
  },
  {
   "cell_type": "markdown",
   "metadata": {},
   "source": [
    "---"
   ]
  },
  {
   "cell_type": "code",
   "execution_count": 7,
   "metadata": {},
   "outputs": [],
   "source": [
    "from lab4.ngrams import calculate_counters, calculate_llr, highest_scores"
   ]
  },
  {
   "cell_type": "code",
   "execution_count": 62,
   "metadata": {},
   "outputs": [],
   "source": [
    "tokens = []\n",
    "\n",
    "for _, content in bills.items():\n",
    "    tags = request_tagging(content)\n",
    "    for token in tagged_to_tokens(tags):\n",
    "        tokens.append(token)"
   ]
  },
  {
   "cell_type": "code",
   "execution_count": 8,
   "metadata": {},
   "outputs": [],
   "source": [
    "# pickle.dump(tokens, open('tokens.p', 'wb'))\n",
    "\n",
    "tokens = pickle.load(open('tokens.p', 'rb'))"
   ]
  },
  {
   "cell_type": "code",
   "execution_count": 9,
   "metadata": {},
   "outputs": [],
   "source": [
    "left, right, bigram = calculate_counters(tokens, [])\n",
    "llr = calculate_llr(left, right, bigram)"
   ]
  },
  {
   "cell_type": "code",
   "execution_count": 10,
   "metadata": {},
   "outputs": [],
   "source": [
    "filtered = {(a,b): score for (a, b), score in llr.items() if a.endswith('subst') and (b.endswith('subst') or b.endswith('adj'))}"
   ]
  },
  {
   "cell_type": "code",
   "execution_count": 11,
   "metadata": {},
   "outputs": [
    {
     "name": "stdout",
     "output_type": "stream",
     "text": [
      "minister:subst właściwy:adj             : 44373.011963426485\n",
      "droga:subst rozporządzenie:subst        : 35983.374974073435\n",
      "Rzeczpospolita:subst polski:adj         : 26153.50254162657\n",
      "samorząd:subst terytorialny:adj         : 17227.503198456485\n",
      "jednostka:subst organizacyjny:adj       : 16959.22027067613\n",
      "produkt:subst leczniczy:adj             : 15686.28551903789\n",
      "skarb:subst państwo:subst               : 15037.56413960451\n",
      "papier:subst wartościowy:adj            : 14130.505112213665\n",
      "unia:subst europejski:adj               : 12683.297045598316\n",
      "ubezpieczenie:subst społeczny:adj       : 12064.809143047634\n",
      "działalność:subst gospodarczy:adj       : 11405.904457978788\n",
      "straż:subst graniczny:adj               : 10824.018597995833\n",
      "dzień:subst grudzień:subst              : 10758.916179734166\n",
      "terytorium:subst Rzeczpospolita:subst   : 10693.877965768479\n",
      "finanse:subst publiczny:adj             : 10560.51819419983\n",
      "obrona:subst narodowy:adj               : 10162.701145730185\n",
      "dzień:subst styczeń:subst               : 9920.119042653125\n",
      "państwo:subst członkowski:adj           : 9913.439343851438\n",
      "ochrona:subst środowisko:subst          : 9777.981237665168\n",
      "administracja:subst rządowy:adj         : 9689.484155953687\n",
      "rada:subst minister:subst               : 9226.117148670251\n",
      "opieka:subst zdrowotny:adj              : 9208.916722932132\n",
      "budżet:subst państwo:subst              : 9069.048353174148\n",
      "podatek:subst dochodowy:adj             : 8926.932628318711\n",
      "sprawa:subst wewnętrzny:adj             : 8909.68430830614\n",
      "jednostka:subst samorząd:subst          : 8498.44853562594\n",
      "lekarz:subst weterynaria:subst          : 8237.963728135554\n",
      "osoba:subst fizyczny:adj                : 7864.653163273935\n",
      "dzień:subst czerwiec:subst              : 7851.646816922235\n",
      "font:subst family:subst                 : 7778.194448431968\n",
      "dzień:subst lipiec:subst                : 7243.595748911612\n",
      "prezes:subst urząd:subst                : 6512.668568381167\n",
      "kasa:subst chory:subst                  : 6487.880437618049\n",
      "siła:subst zbrojny:adj                  : 6201.47953178786\n",
      "tekst:subst jednolity:adj               : 6181.891706923903\n",
      "komisja:subst wyborczy:adj              : 6110.299337332835\n",
      "minister:subst sprawiedliwość:subst     : 6085.656914235267\n",
      "straż:subst pożarny:adj                 : 6081.852871983516\n",
      "wyrób:subst akcyzowy:adj                : 6046.060817111676\n",
      "dzień:subst sierpień:subst              : 6041.003966032411\n",
      "osoba:subst prawny:adj                  : 5976.675684953225\n",
      "żołnierz:subst zawodowy:adj             : 5837.322416375246\n",
      "służba:subst cywilny:adj                : 5822.216041427571\n",
      "organ:subst administracja:subst         : 5612.625319605868\n",
      "URz:subst UE:subst                      : 5588.205784612503\n",
      "lokal:subst mieszkalny:adj              : 5536.457076933686\n",
      "dziennik:subst urzędowy:adj             : 5523.787873311478\n",
      "energia:subst elektryczny:adj           : 5513.43415721249\n",
      "stanowisko:subst służbowy:adj           : 5433.518795588869\n",
      "miejsce:subst zamieszkanie:subst        : 5415.2454807103495\n"
     ]
    }
   ],
   "source": [
    "for (a, b), score in highest_scores(filtered, 50):\n",
    "    bigram = '{0} {1}'.format(a, b)\n",
    "    print('{0:40}: {1}'.format(bigram, score))"
   ]
  },
  {
   "cell_type": "markdown",
   "metadata": {},
   "source": [
    "---\n",
    "\n",
    "Using stopwords:"
   ]
  },
  {
   "cell_type": "code",
   "execution_count": 12,
   "metadata": {},
   "outputs": [],
   "source": [
    "def read_stopwords(path):\n",
    "    with open(path, 'r') as f:\n",
    "        return [regex.sub(r'\\s', '', word) for word in f.readlines()]"
   ]
  },
  {
   "cell_type": "code",
   "execution_count": 13,
   "metadata": {},
   "outputs": [],
   "source": [
    "polish_stopwords = read_stopwords('../lab4/data/stopwords-pl.txt')"
   ]
  },
  {
   "cell_type": "code",
   "execution_count": 14,
   "metadata": {},
   "outputs": [],
   "source": [
    "left, right, bigram = calculate_counters(tokens, polish_stopwords)\n",
    "llr = calculate_llr(left, right, bigram)"
   ]
  },
  {
   "cell_type": "code",
   "execution_count": 15,
   "metadata": {},
   "outputs": [],
   "source": [
    "filtered = {(a,b): score for (a, b), score in llr.items() if a.endswith('subst') and (b.endswith('subst') or b.endswith('adj'))}"
   ]
  },
  {
   "cell_type": "code",
   "execution_count": 16,
   "metadata": {},
   "outputs": [
    {
     "name": "stdout",
     "output_type": "stream",
     "text": [
      "minister:subst właściwy:adj             : 34175.70605477318\n",
      "droga:subst rozporządzenie:subst        : 29494.761500026914\n",
      "Rzeczpospolita:subst polski:adj         : 21808.199546717748\n",
      "samorząd:subst terytorialny:adj         : 14766.68815404427\n",
      "jednostka:subst organizacyjny:adj       : 13946.958468182478\n",
      "produkt:subst leczniczy:adj             : 13393.99915473722\n",
      "skarb:subst państwo:subst               : 12698.039478285296\n",
      "papier:subst wartościowy:adj            : 12443.749091597543\n",
      "unia:subst europejski:adj               : 11024.825482128828\n",
      "ubezpieczenie:subst społeczny:adj       : 10040.660229359462\n",
      "działalność:subst gospodarczy:adj       : 9407.35585392773\n",
      "straż:subst graniczny:adj               : 9324.93175425155\n",
      "terytorium:subst Rzeczpospolita:subst   : 9113.304772837088\n",
      "finanse:subst publiczny:adj             : 8810.905567078444\n",
      "obrona:subst narodowy:adj               : 8734.162767812115\n",
      "państwo:subst członkowski:adj           : 8589.345137608994\n",
      "administracja:subst rządowy:adj         : 8268.160844860118\n",
      "dzień:subst grudzień:subst              : 8263.908138336788\n",
      "ochrona:subst środowisko:subst          : 8244.577274460782\n",
      "podatek:subst dochodowy:adj             : 7964.479530652097\n",
      "opieka:subst zdrowotny:adj              : 7934.677175530145\n",
      "dzień:subst styczeń:subst               : 7600.179120090499\n",
      "budżet:subst państwo:subst              : 7534.115276618366\n",
      "lekarz:subst weterynaria:subst          : 7246.586208158944\n",
      "jednostka:subst samorząd:subst          : 6984.012338416476\n",
      "sprawa:subst wewnętrzny:adj             : 6837.16853305744\n",
      "font:subst family:subst                 : 6793.667885658178\n",
      "rada:subst minister:subst               : 6723.170326591528\n",
      "osoba:subst fizyczny:adj                : 6349.824650384602\n",
      "dzień:subst czerwiec:subst              : 6019.76801913057\n",
      "kasa:subst chory:subst                  : 5741.497957033644\n",
      "dzień:subst lipiec:subst                : 5555.845262085029\n",
      "siła:subst zbrojny:adj                  : 5520.512786778549\n",
      "tekst:subst jednolity:adj               : 5389.91863379789\n",
      "straż:subst pożarny:adj                 : 5253.954353821755\n",
      "wyrób:subst akcyzowy:adj                : 5230.474120248953\n",
      "URz:subst UE:subst                      : 5061.196697729796\n",
      "prezes:subst urząd:subst                : 5043.4274044521735\n",
      "energia:subst elektryczny:adj           : 4959.649642313445\n",
      "żołnierz:subst zawodowy:adj             : 4942.355809265107\n",
      "lokal:subst mieszkalny:adj              : 4900.821304566853\n",
      "komisja:subst wyborczy:adj              : 4883.494552707125\n",
      "dziennik:subst urzędowy:adj             : 4874.53064306514\n",
      "służba:subst cywilny:adj                : 4719.2124551053275\n",
      "minister:subst sprawiedliwość:subst     : 4707.838607268815\n",
      "miejsce:subst zamieszkanie:subst        : 4683.550138066697\n",
      "sprawozdanie:subst finansowy:adj        : 4620.683125499578\n",
      "dzień:subst sierpień:subst              : 4614.086669706041\n",
      "stanowisko:subst służbowy:adj           : 4568.804173987533\n",
      "osoba:subst prawny:adj                  : 4524.321796564851\n"
     ]
    }
   ],
   "source": [
    "for (a, b), score in highest_scores(filtered, 50):\n",
    "    bigram = '{0} {1}'.format(a, b)\n",
    "    print('{0:40}: {1}'.format(bigram, score))"
   ]
  },
  {
   "cell_type": "code",
   "execution_count": null,
   "metadata": {},
   "outputs": [],
   "source": []
  }
 ],
 "metadata": {
  "kernelspec": {
   "display_name": "Python 3",
   "language": "python",
   "name": "python3"
  },
  "language_info": {
   "codemirror_mode": {
    "name": "ipython",
    "version": 3
   },
   "file_extension": ".py",
   "mimetype": "text/x-python",
   "name": "python",
   "nbconvert_exporter": "python",
   "pygments_lexer": "ipython3",
   "version": "3.7.3"
  }
 },
 "nbformat": 4,
 "nbformat_minor": 2
}
