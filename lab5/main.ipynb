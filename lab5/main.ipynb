{
 "cells": [
  {
   "cell_type": "code",
   "execution_count": 21,
   "metadata": {},
   "outputs": [],
   "source": [
    "import pickle\n",
    "\n",
    "from util import read_bills\n",
    "from regex import regex\n",
    "from http.client import HTTPConnection"
   ]
  },
  {
   "cell_type": "code",
   "execution_count": 23,
   "metadata": {},
   "outputs": [],
   "source": [
    "bills = read_bills('../lab2/data')"
   ]
  },
  {
   "cell_type": "code",
   "execution_count": 24,
   "metadata": {},
   "outputs": [],
   "source": [
    "connection = HTTPConnection('127.0.0.1:9200')\n",
    "headers = {'Content-type': 'text/plain'}"
   ]
  },
  {
   "cell_type": "code",
   "execution_count": 25,
   "metadata": {},
   "outputs": [],
   "source": [
    "def request_tagging(bill_content):\n",
    "    body = bill_content.encode('utf-8')\n",
    "    connection.request('POST', '/', body, headers)\n",
    "    response = connection.getresponse()\n",
    "    return response.read().decode('utf-8')\n",
    "\n",
    "\n",
    "def tagged_to_tokens(tags):\n",
    "    pattern = r'(?=^(\\p{L}+)).*?\\n\\s(\\p{L}*)\\s(\\p{L}*)'\n",
    "    results = list(regex.finditer(pattern, tags, flags=regex.MULTILINE))\n",
    "    return ['{0}:{1}'.format(r.group(2), r.group(3)) for r in results]"
   ]
  },
  {
   "cell_type": "markdown",
   "metadata": {},
   "source": [
    "---"
   ]
  },
  {
   "cell_type": "code",
   "execution_count": 26,
   "metadata": {},
   "outputs": [],
   "source": [
    "from lab4.ngrams import calculate_counters, calculate_llr, highest_scores"
   ]
  },
  {
   "cell_type": "code",
   "execution_count": 27,
   "metadata": {},
   "outputs": [],
   "source": [
    "tokens = []\n",
    "\n",
    "for _, content in bills.items():\n",
    "    tags = request_tagging(content)\n",
    "    for token in tagged_to_tokens(tags):\n",
    "        tokens.append(token)"
   ]
  },
  {
   "cell_type": "code",
   "execution_count": 28,
   "metadata": {},
   "outputs": [],
   "source": [
    "pickle.dump(tokens, open('tokens.p', 'wb'))"
   ]
  },
  {
   "cell_type": "code",
   "execution_count": 30,
   "metadata": {},
   "outputs": [],
   "source": [
    "left, right, bigram = calculate_counters(tokens, [])\n",
    "llr = calculate_llr(left, right, bigram)"
   ]
  },
  {
   "cell_type": "code",
   "execution_count": 47,
   "metadata": {},
   "outputs": [],
   "source": [
    "filtered = {(a,b): score for (a, b), score in llr.items() if a.endswith('subst') and (b.endswith('subst') or b.endswith('adj'))}"
   ]
  },
  {
   "cell_type": "code",
   "execution_count": 48,
   "metadata": {},
   "outputs": [
    {
     "name": "stdout",
     "output_type": "stream",
     "text": [
      "minister:subst właściwy:adj             : 44373.011963426485\n",
      "droga:subst rozporządzenie:subst        : 35983.374974073435\n",
      "Rzeczpospolita:subst polski:adj         : 26153.50254162657\n",
      "samorząd:subst terytorialny:adj         : 17227.503198456485\n",
      "jednostka:subst organizacyjny:adj       : 16959.22027067613\n",
      "produkt:subst leczniczy:adj             : 15686.28551903789\n",
      "skarb:subst państwo:subst               : 15037.56413960451\n",
      "papier:subst wartościowy:adj            : 14130.505112213665\n",
      "unia:subst europejski:adj               : 12683.297045598316\n",
      "ubezpieczenie:subst społeczny:adj       : 12064.809143047634\n",
      "działalność:subst gospodarczy:adj       : 11405.904457978788\n",
      "straż:subst graniczny:adj               : 10824.018597995833\n",
      "dzień:subst grudzień:subst              : 10758.916179734166\n",
      "terytorium:subst Rzeczpospolita:subst   : 10693.877965768479\n",
      "finanse:subst publiczny:adj             : 10560.51819419983\n",
      "obrona:subst narodowy:adj               : 10162.701145730185\n",
      "dzień:subst styczeń:subst               : 9920.119042653125\n",
      "państwo:subst członkowski:adj           : 9913.439343851438\n",
      "ochrona:subst środowisko:subst          : 9777.981237665168\n",
      "administracja:subst rządowy:adj         : 9689.484155953687\n",
      "rada:subst minister:subst               : 9226.117148670251\n",
      "opieka:subst zdrowotny:adj              : 9208.916722932132\n",
      "budżet:subst państwo:subst              : 9069.048353174148\n",
      "podatek:subst dochodowy:adj             : 8926.932628318711\n",
      "sprawa:subst wewnętrzny:adj             : 8909.68430830614\n",
      "jednostka:subst samorząd:subst          : 8498.44853562594\n",
      "lekarz:subst weterynaria:subst          : 8237.963728135554\n",
      "osoba:subst fizyczny:adj                : 7864.653163273935\n",
      "dzień:subst czerwiec:subst              : 7851.646816922235\n",
      "font:subst family:subst                 : 7778.194448431968\n",
      "dzień:subst lipiec:subst                : 7243.595748911612\n",
      "prezes:subst urząd:subst                : 6512.668568381167\n",
      "kasa:subst chory:subst                  : 6487.880437618049\n",
      "siła:subst zbrojny:adj                  : 6201.47953178786\n",
      "tekst:subst jednolity:adj               : 6181.891706923903\n",
      "komisja:subst wyborczy:adj              : 6110.299337332835\n",
      "minister:subst sprawiedliwość:subst     : 6085.656914235267\n",
      "straż:subst pożarny:adj                 : 6081.852871983516\n",
      "wyrób:subst akcyzowy:adj                : 6046.060817111676\n",
      "dzień:subst sierpień:subst              : 6041.003966032411\n",
      "osoba:subst prawny:adj                  : 5976.675684953225\n",
      "żołnierz:subst zawodowy:adj             : 5837.322416375246\n",
      "służba:subst cywilny:adj                : 5822.216041427571\n",
      "organ:subst administracja:subst         : 5612.625319605868\n",
      "URz:subst UE:subst                      : 5588.205784612503\n",
      "lokal:subst mieszkalny:adj              : 5536.457076933686\n",
      "dziennik:subst urzędowy:adj             : 5523.787873311478\n",
      "energia:subst elektryczny:adj           : 5513.43415721249\n",
      "stanowisko:subst służbowy:adj           : 5433.518795588869\n",
      "miejsce:subst zamieszkanie:subst        : 5415.2454807103495\n"
     ]
    }
   ],
   "source": [
    "for (a, b), score in highest_scores(filtered, 50):\n",
    "    bigram = '{0} {1}'.format(a, b)\n",
    "    print('{0:40}: {1}'.format(bigram, score))"
   ]
  },
  {
   "cell_type": "code",
   "execution_count": null,
   "metadata": {},
   "outputs": [],
   "source": []
  }
 ],
 "metadata": {
  "kernelspec": {
   "display_name": "Python 3",
   "language": "python",
   "name": "python3"
  },
  "language_info": {
   "codemirror_mode": {
    "name": "ipython",
    "version": 3
   },
   "file_extension": ".py",
   "mimetype": "text/x-python",
   "name": "python",
   "nbconvert_exporter": "python",
   "pygments_lexer": "ipython3",
   "version": "3.7.3"
  }
 },
 "nbformat": 4,
 "nbformat_minor": 2
}
