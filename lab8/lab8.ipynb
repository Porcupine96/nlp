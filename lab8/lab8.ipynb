{
 "cells": [
  {
   "cell_type": "markdown",
   "metadata": {},
   "source": [
    "# Setup\n",
    "---"
   ]
  },
  {
   "cell_type": "code",
   "execution_count": 1,
   "metadata": {
    "ExecuteTime": {
     "end_time": "2019-05-08T22:09:06.360314Z",
     "start_time": "2019-05-08T22:09:05.915713Z"
    }
   },
   "outputs": [],
   "source": [
    "import pandas as pd\n",
    "\n",
    "from regex import regex\n",
    "from preprocess import read_bills, preprocess_all\n",
    "from util import split_ttf"
   ]
  },
  {
   "cell_type": "code",
   "execution_count": 2,
   "metadata": {
    "ExecuteTime": {
     "end_time": "2019-05-08T22:09:08.019908Z",
     "start_time": "2019-05-08T22:09:06.363793Z"
    }
   },
   "outputs": [],
   "source": [
    "bills = read_bills('../lab1/data')"
   ]
  },
  {
   "cell_type": "code",
   "execution_count": 3,
   "metadata": {
    "ExecuteTime": {
     "end_time": "2019-05-08T22:09:08.689534Z",
     "start_time": "2019-05-08T22:09:08.021683Z"
    }
   },
   "outputs": [
    {
     "name": "stdout",
     "output_type": "stream",
     "text": [
      "Could not resolve header for 1996_400.txt\n"
     ]
    }
   ],
   "source": [
    "df = preprocess_all(bills)"
   ]
  },
  {
   "cell_type": "code",
   "execution_count": 4,
   "metadata": {
    "ExecuteTime": {
     "end_time": "2019-05-08T22:09:08.711181Z",
     "start_time": "2019-05-08T22:09:08.692811Z"
    }
   },
   "outputs": [
    {
     "data": {
      "text/plain": [
       "count     1178\n",
       "unique       2\n",
       "top       True\n",
       "freq       610\n",
       "Name: is_amendment, dtype: object"
      ]
     },
     "execution_count": 4,
     "metadata": {},
     "output_type": "execute_result"
    }
   ],
   "source": [
    "df['is_amendment'].describe()"
   ]
  },
  {
   "cell_type": "code",
   "execution_count": 6,
   "metadata": {
    "ExecuteTime": {
     "end_time": "2019-05-08T22:09:26.704086Z",
     "start_time": "2019-05-08T22:09:26.698476Z"
    }
   },
   "outputs": [],
   "source": [
    "train, test, validation = split_ttf(df)"
   ]
  },
  {
   "cell_type": "code",
   "execution_count": 8,
   "metadata": {
    "ExecuteTime": {
     "end_time": "2019-05-08T22:10:30.728355Z",
     "start_time": "2019-05-08T22:10:30.724238Z"
    }
   },
   "outputs": [
    {
     "name": "stdout",
     "output_type": "stream",
     "text": [
      "train      706\n",
      "test       235\n",
      "validation 237\n"
     ]
    }
   ],
   "source": [
    "print('train      {}'.format(len(train)))\n",
    "print('test       {}'.format(len(test)))\n",
    "print('validation {}'.format(len(validation)))"
   ]
  },
  {
   "cell_type": "code",
   "execution_count": null,
   "metadata": {},
   "outputs": [],
   "source": []
  }
 ],
 "metadata": {
  "kernelspec": {
   "display_name": "Python 3",
   "language": "python",
   "name": "python3"
  },
  "language_info": {
   "codemirror_mode": {
    "name": "ipython",
    "version": 3
   },
   "file_extension": ".py",
   "mimetype": "text/x-python",
   "name": "python",
   "nbconvert_exporter": "python",
   "pygments_lexer": "ipython3",
   "version": "3.7.3"
  }
 },
 "nbformat": 4,
 "nbformat_minor": 2
}
