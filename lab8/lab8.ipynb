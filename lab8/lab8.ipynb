{
 "cells": [
  {
   "cell_type": "markdown",
   "metadata": {
    "heading_collapsed": true
   },
   "source": [
    "# Setup\n",
    "---"
   ]
  },
  {
   "cell_type": "code",
   "execution_count": 1,
   "metadata": {
    "ExecuteTime": {
     "end_time": "2019-05-19T09:48:06.257258Z",
     "start_time": "2019-05-19T09:48:06.234163Z"
    },
    "hidden": true
   },
   "outputs": [],
   "source": [
    "%load_ext autoreload\n",
    "%autoreload 2"
   ]
  },
  {
   "cell_type": "code",
   "execution_count": 2,
   "metadata": {
    "ExecuteTime": {
     "end_time": "2019-05-19T09:48:09.222570Z",
     "start_time": "2019-05-19T09:48:06.906977Z"
    },
    "hidden": true
   },
   "outputs": [],
   "source": [
    "import warnings\n",
    "import pandas as pd\n",
    "import matplotlib.pyplot as plt\n",
    "\n",
    "from preprocess import preprocess_all\n",
    "from util import read_bills, read_stopwords, split_ttf\n",
    "from variants import variant_i, variant_ii, variant_iii, variant_iv\n",
    "\n",
    "from fasttext import prepare_files"
   ]
  },
  {
   "cell_type": "code",
   "execution_count": 3,
   "metadata": {
    "ExecuteTime": {
     "end_time": "2019-05-19T09:48:09.253578Z",
     "start_time": "2019-05-19T09:48:09.227844Z"
    },
    "hidden": true
   },
   "outputs": [],
   "source": [
    "warnings.filterwarnings('ignore')"
   ]
  },
  {
   "cell_type": "code",
   "execution_count": 4,
   "metadata": {
    "ExecuteTime": {
     "end_time": "2019-05-19T09:48:11.099787Z",
     "start_time": "2019-05-19T09:48:09.255475Z"
    },
    "hidden": true
   },
   "outputs": [],
   "source": [
    "bills = read_bills('../lab1/data')"
   ]
  },
  {
   "cell_type": "code",
   "execution_count": 5,
   "metadata": {
    "ExecuteTime": {
     "end_time": "2019-05-19T09:48:11.134882Z",
     "start_time": "2019-05-19T09:48:11.102360Z"
    },
    "hidden": true
   },
   "outputs": [],
   "source": [
    "stopwords = read_stopwords('./stopwords-pl.txt')"
   ]
  },
  {
   "cell_type": "code",
   "execution_count": 6,
   "metadata": {
    "ExecuteTime": {
     "end_time": "2019-05-19T09:48:11.757801Z",
     "start_time": "2019-05-19T09:48:11.136758Z"
    },
    "hidden": true
   },
   "outputs": [],
   "source": [
    "df = preprocess_all(bills)"
   ]
  },
  {
   "cell_type": "code",
   "execution_count": 7,
   "metadata": {
    "ExecuteTime": {
     "end_time": "2019-05-19T09:48:12.020438Z",
     "start_time": "2019-05-19T09:48:11.759158Z"
    },
    "hidden": true
   },
   "outputs": [
    {
     "data": {
      "image/png": "[encoded data removed]",
      "text/plain": [
       "<Figure size 432x288 with 1 Axes>"
      ]
     },
     "metadata": {
      "needs_background": "light"
     },
     "output_type": "display_data"
    }
   ],
   "source": [
    "df.groupby(by='is_amendment').count()['text'].plot.bar();"
   ]
  },
  {
   "cell_type": "code",
   "execution_count": 8,
   "metadata": {
    "ExecuteTime": {
     "end_time": "2019-05-19T09:48:12.059509Z",
     "start_time": "2019-05-19T09:48:12.022957Z"
    },
    "hidden": true
   },
   "outputs": [],
   "source": [
    "train, test, validation = split_ttf(df)"
   ]
  },
  {
   "cell_type": "code",
   "execution_count": 9,
   "metadata": {
    "ExecuteTime": {
     "end_time": "2019-05-19T09:48:12.094679Z",
     "start_time": "2019-05-19T09:48:12.061520Z"
    },
    "hidden": true
   },
   "outputs": [
    {
     "name": "stdout",
     "output_type": "stream",
     "text": [
      "train      707\n",
      "test       236\n",
      "validation 236\n"
     ]
    }
   ],
   "source": [
    "print('train      {}'.format(len(train)))\n",
    "print('test       {}'.format(len(test)))\n",
    "print('validation {}'.format(len(validation)))"
   ]
  },
  {
   "cell_type": "code",
   "execution_count": 10,
   "metadata": {
    "ExecuteTime": {
     "end_time": "2019-05-19T09:48:12.136035Z",
     "start_time": "2019-05-19T09:48:12.098348Z"
    },
    "hidden": true
   },
   "outputs": [],
   "source": [
    "variants = [\n",
    "    ('i', variant_i),\n",
    "    ('ii', variant_ii),\n",
    "    ('iii', variant_iii),\n",
    "    ('iv', variant_iv)\n",
    "]"
   ]
  },
  {
   "cell_type": "code",
   "execution_count": 11,
   "metadata": {
    "ExecuteTime": {
     "end_time": "2019-05-19T09:48:16.931393Z",
     "start_time": "2019-05-19T09:48:12.818567Z"
    },
    "hidden": true
   },
   "outputs": [],
   "source": [
    "variant_dfs = {}\n",
    "\n",
    "for name, variant in variants:\n",
    "    v_train = variant(train)\n",
    "    v_validation = variant(validation)\n",
    "    v_test = variant(test)\n",
    "\n",
    "    variant_dfs[name] = (v_train, v_validation, v_test)\n",
    "\n",
    "    prepare_files(v_train, 'fast/{}_train.csv'.format(name))\n",
    "    prepare_files(v_validation, 'fast/{}_validation.csv'.format(name))\n",
    "    prepare_files(v_test, 'fast/{}_test.csv'.format(name))"
   ]
  },
  {
   "cell_type": "markdown",
   "metadata": {
    "heading_collapsed": true
   },
   "source": [
    "# SVM + TF-IDF\n",
    "---"
   ]
  },
  {
   "cell_type": "markdown",
   "metadata": {
    "heading_collapsed": true,
    "hidden": true
   },
   "source": [
    "### Classifier"
   ]
  },
  {
   "cell_type": "code",
   "execution_count": 61,
   "metadata": {
    "ExecuteTime": {
     "end_time": "2019-05-19T15:06:30.557468Z",
     "start_time": "2019-05-19T15:06:30.442405Z"
    },
    "hidden": true
   },
   "outputs": [],
   "source": [
    "from sklearn.metrics import precision_recall_fscore_support\n",
    "from sklearn.feature_extraction.text import TfidfVectorizer, CountVectorizer\n",
    "\n",
    "from preprocess import extract_tokens\n",
    "from util import build_vocabulary\n",
    "from svm import teach_svm, evaluate, svm_show_scores, teach_progressive_svm\n",
    "from vis import plot_metrics_for"
   ]
  },
  {
   "cell_type": "code",
   "execution_count": 62,
   "metadata": {
    "ExecuteTime": {
     "end_time": "2019-05-19T15:11:52.371353Z",
     "start_time": "2019-05-19T15:06:31.145569Z"
    },
    "hidden": true
   },
   "outputs": [
    {
     "name": "stdout",
     "output_type": "stream",
     "text": [
      "Score 0.32395993836671805 for tol=1e-11, c=0.1, kernel=rbf, drop=0\n",
      "Score 0.8347309270679746 for tol=1e-11, c=100, kernel=rbf, drop=1000\n",
      "Score 0.32395993836671805 for tol=1e-11, c=0.1, kernel=rbf, drop=0\n",
      "Score 0.5488033479565638 for tol=1e-11, c=1, kernel=rbf, drop=1000\n",
      "Score 0.32395993836671805 for tol=1e-11, c=0.1, kernel=rbf, drop=0\n",
      "Score 0.4887540476676682 for tol=1e-11, c=200, kernel=rbf, drop=0\n",
      "Score 0.5040241502635402 for tol=1, c=200, kernel=rbf, drop=0\n",
      "Score 0.32395993836671805 for tol=1e-11, c=0.1, kernel=rbf, drop=0\n",
      "Score 0.36930591510770283 for tol=1e-11, c=100, kernel=rbf, drop=0\n",
      "Score 0.37800389088720626 for tol=1e-11, c=200, kernel=rbf, drop=0\n",
      "Score 0.4304738274461153 for tol=1, c=200, kernel=rbf, drop=0\n"
     ]
    }
   ],
   "source": [
    "results = {}\n",
    "\n",
    "for name, (v_train, v_validation, v_test) in variant_dfs.items():\n",
    "    v_df = pd.concat([v_train, v_validation, v_test])\n",
    "    result = teach_svm(v_train, v_validation, v_df, stopwords)\n",
    "    results[name] = result"
   ]
  },
  {
   "cell_type": "code",
   "execution_count": 63,
   "metadata": {
    "ExecuteTime": {
     "end_time": "2019-05-19T15:11:53.667981Z",
     "start_time": "2019-05-19T15:11:52.378713Z"
    },
    "hidden": true
   },
   "outputs": [
    {
     "name": "stdout",
     "output_type": "stream",
     "text": [
      "variant: i\n",
      "(1e-11, 100, 0.8347309270679746, 'rbf', 1000)\n",
      "Precision: 0.8614749186783085\n",
      "Recall:    0.8601694915254238\n",
      "F1 score:  0.8604352087164442\n",
      "-----------------------------\n",
      "variant: ii\n",
      "(1e-11, 1, 0.5488033479565638, 'rbf', 1000)\n",
      "Precision: 0.5707460950481887\n",
      "Recall:    0.5550847457627118\n",
      "F1 score:  0.5543896530639016\n",
      "-----------------------------\n",
      "variant: iii\n",
      "(1, 200, 0.5040241502635402, 'rbf', 0)\n",
      "Precision: 0.7979060391640613\n",
      "Recall:    0.6822033898305084\n",
      "F1 score:  0.629289677949337\n",
      "-----------------------------\n",
      "variant: iv\n",
      "(1, 200, 0.4304738274461153, 'rbf', 0)\n",
      "Precision: 0.6908338910210009\n",
      "Recall:    0.6016949152542372\n",
      "F1 score:  0.5081165403088159\n",
      "-----------------------------\n"
     ]
    }
   ],
   "source": [
    "for name, result in results.items():\n",
    "    clf, vocab, clf_metrics, metrics = result\n",
    "    v_test = variant_dfs[name][2]\n",
    "    \n",
    "    print('variant: {}'.format(name))\n",
    "    print(clf_metrics)\n",
    "    svm_show_scores(clf, v_test, vocab, stopwords)\n",
    "    print('-----------------------------')"
   ]
  },
  {
   "cell_type": "markdown",
   "metadata": {
    "heading_collapsed": true,
    "hidden": true
   },
   "source": [
    "### Parameters"
   ]
  },
  {
   "cell_type": "code",
   "execution_count": 86,
   "metadata": {
    "ExecuteTime": {
     "end_time": "2019-05-19T17:56:37.809857Z",
     "start_time": "2019-05-19T17:56:36.821638Z"
    },
    "hidden": true
   },
   "outputs": [
    {
     "data": {
      "image/png": "[encoded data removed]",
      "text/plain": [
       "<Figure size 972x288 with 3 Axes>"
      ]
     },
     "metadata": {
      "needs_background": "light"
     },
     "output_type": "display_data"
    }
   ],
   "source": [
    "_, _, _, metrics = results['i']\n",
    "plot_metrics_for(metrics)"
   ]
  },
  {
   "cell_type": "code",
   "execution_count": 87,
   "metadata": {
    "ExecuteTime": {
     "end_time": "2019-05-19T17:56:40.508213Z",
     "start_time": "2019-05-19T17:56:39.194448Z"
    },
    "hidden": true
   },
   "outputs": [
    {
     "data": {
      "image/png": "[encoded data removed]",
      "text/plain": [
       "<Figure size 972x288 with 3 Axes>"
      ]
     },
     "metadata": {
      "needs_background": "light"
     },
     "output_type": "display_data"
    }
   ],
   "source": [
    "_, _, _, metrics = results['ii']\n",
    "plot_metrics_for(metrics)"
   ]
  },
  {
   "cell_type": "code",
   "execution_count": 88,
   "metadata": {
    "ExecuteTime": {
     "end_time": "2019-05-19T17:56:50.125817Z",
     "start_time": "2019-05-19T17:56:48.896792Z"
    },
    "hidden": true
   },
   "outputs": [
    {
     "data": {
      "image/png": "[encoded data removed]",
      "text/plain": [
       "<Figure size 972x288 with 3 Axes>"
      ]
     },
     "metadata": {
      "needs_background": "light"
     },
     "output_type": "display_data"
    }
   ],
   "source": [
    "_, _, _, metrics = results['iii']\n",
    "plot_metrics_for(metrics)"
   ]
  },
  {
   "cell_type": "code",
   "execution_count": 89,
   "metadata": {
    "ExecuteTime": {
     "end_time": "2019-05-19T17:57:33.080162Z",
     "start_time": "2019-05-19T17:57:32.100575Z"
    },
    "hidden": true
   },
   "outputs": [
    {
     "data": {
      "image/png": "[encoded data removed]",
      "text/plain": [
       "<Figure size 972x288 with 3 Axes>"
      ]
     },
     "metadata": {
      "needs_background": "light"
     },
     "output_type": "display_data"
    }
   ],
   "source": [
    "_, _, _, metrics = results['iv']\n",
    "plot_metrics_for(metrics)"
   ]
  },
  {
   "cell_type": "markdown",
   "metadata": {
    "heading_collapsed": true,
    "hidden": true
   },
   "source": [
    "### Number of samples to score"
   ]
  },
  {
   "cell_type": "code",
   "execution_count": 35,
   "metadata": {
    "ExecuteTime": {
     "end_time": "2019-05-19T10:02:41.834913Z",
     "start_time": "2019-05-19T10:01:42.289171Z"
    },
    "hidden": true
   },
   "outputs": [],
   "source": [
    "v_train, v_validation, v_test = variant_dfs['i']\n",
    "\n",
    "results = teach_progressive_svm(\n",
    "    v_train,\n",
    "    v_validation,\n",
    "    v_test,\n",
    "    stopwords,\n",
    "    tol=1e-11,\n",
    "    C=100,\n",
    "    drop_threshold=1000)"
   ]
  },
  {
   "cell_type": "code",
   "execution_count": 48,
   "metadata": {
    "ExecuteTime": {
     "end_time": "2019-05-19T10:10:38.860848Z",
     "start_time": "2019-05-19T10:10:38.824630Z"
    },
    "hidden": true
   },
   "outputs": [],
   "source": [
    "result_df = pd.DataFrame(list(results.values()), columns=['size', 'validation_score', 'test_score'])"
   ]
  },
  {
   "cell_type": "code",
   "execution_count": 58,
   "metadata": {
    "ExecuteTime": {
     "end_time": "2019-05-19T10:14:37.236696Z",
     "start_time": "2019-05-19T10:14:36.737941Z"
    },
    "hidden": true
   },
   "outputs": [
    {
     "data": {
      "image/png": "[encoded data removed]",
      "text/plain": [
       "<Figure size 1296x288 with 2 Axes>"
      ]
     },
     "metadata": {
      "needs_background": "light"
     },
     "output_type": "display_data"
    }
   ],
   "source": [
    "fig, (ax1, ax2) = plt.subplots(ncols=2, figsize=(18,4))\n",
    "\n",
    "result_df.plot(x='size', y='validation_score', kind='scatter', ax=ax1)\n",
    "result_df.plot(x='size', y='test_score', kind='scatter', ax=ax2)\n",
    "\n",
    "plt.show()"
   ]
  },
  {
   "cell_type": "markdown",
   "metadata": {},
   "source": [
    "# Fasttext\n",
    "---"
   ]
  },
  {
   "cell_type": "code",
   "execution_count": 46,
   "metadata": {
    "ExecuteTime": {
     "end_time": "2019-05-18T21:08:58.598405Z",
     "start_time": "2019-05-18T21:08:58.542243Z"
    }
   },
   "outputs": [],
   "source": [
    "import fastText\n",
    "\n",
    "from fasttext import prepare_files, teach_fasttext, fasttext_show_scores"
   ]
  },
  {
   "cell_type": "code",
   "execution_count": 51,
   "metadata": {
    "ExecuteTime": {
     "end_time": "2019-05-18T21:15:17.268865Z",
     "start_time": "2019-05-18T21:09:58.925763Z"
    }
   },
   "outputs": [
    {
     "name": "stdout",
     "output_type": "stream",
     "text": [
      "Training classifier: i\n",
      "Score 0.5101728419434874 for lr=0.1, wordNgrams=1\n",
      "Score 0.517155849524597 for lr=0.1, wordNgrams=2\n",
      "Score 0.8261307579121772 for lr=0.6, wordNgrams=1\n",
      "Score 0.8598753232346475 for lr=1.1, wordNgrams=1\n",
      "Score 0.8727443254139844 for lr=1.6, wordNgrams=1\n",
      "Score 0.8811511969699186 for lr=1.6, wordNgrams=2\n",
      "Score 0.8855007430153361 for lr=2.1, wordNgrams=2\n",
      "Score 0.8855500766542294 for lr=2.6, wordNgrams=2\n",
      "Score 0.8939212158482054 for lr=3.1, wordNgrams=2\n",
      "Score 0.8982466393921683 for lr=3.6, wordNgrams=2\n",
      "------------------------------------\n",
      "Training classifier: ii\n",
      "Score 0.4830793058902056 for lr=0.1, wordNgrams=1\n",
      "Score 0.4960955773867357 for lr=0.1, wordNgrams=2\n",
      "Score 0.6507918410478164 for lr=0.6, wordNgrams=1\n",
      "Score 0.6781405782652042 for lr=0.6, wordNgrams=2\n",
      "Score 0.6826178937787508 for lr=1.1, wordNgrams=1\n",
      "Score 0.6841982180310185 for lr=1.1, wordNgrams=2\n",
      "Score 0.69918488808384 for lr=1.6, wordNgrams=1\n",
      "Score 0.7061249594764588 for lr=1.6, wordNgrams=2\n",
      "Score 0.7108685464344295 for lr=2.1, wordNgrams=2\n",
      "Score 0.719069170865781 for lr=3.1, wordNgrams=2\n",
      "------------------------------------\n",
      "Training classifier: iii\n",
      "Score 0.5444289771028562 for lr=0.1, wordNgrams=1\n",
      "Score 0.5509255129348797 for lr=0.1, wordNgrams=2\n",
      "Score 0.7540960451977401 for lr=0.6, wordNgrams=1\n",
      "Score 0.7669282304804771 for lr=1.1, wordNgrams=1\n",
      "------------------------------------\n",
      "Training classifier: iv\n",
      "Score 0.5333482994724437 for lr=0.1, wordNgrams=1\n",
      "Score 0.578838879116069 for lr=0.6, wordNgrams=1\n",
      "Score 0.6028106338442936 for lr=1.1, wordNgrams=2\n",
      "------------------------------------\n"
     ]
    }
   ],
   "source": [
    "fasttext_results = {}\n",
    "for name, (v_train, v_validation, v_test) in variant_dfs.items():\n",
    "    print('Training classifier: {}'.format(name))\n",
    "    clf, metrics = teach_fasttext('fast/{}_train.csv'.format(name), v_validation)\n",
    "    fasttext_results[name] = (clf, metrics)\n",
    "    print('------------------------------------')"
   ]
  },
  {
   "cell_type": "code",
   "execution_count": 52,
   "metadata": {
    "ExecuteTime": {
     "end_time": "2019-05-18T21:15:22.370333Z",
     "start_time": "2019-05-18T21:15:17.277675Z"
    }
   },
   "outputs": [
    {
     "name": "stdout",
     "output_type": "stream",
     "text": [
      "variant: i\n",
      "Precision: 0.8939961874283908\n",
      "Recall:    0.8940677966101694\n",
      "F1 score:  0.8940157623079241\n",
      "-----------------------------\n",
      "variant: ii\n",
      "Precision: 0.7516233766233766\n",
      "Recall:    0.75\n",
      "F1 score:  0.7504750701294001\n",
      "-----------------------------\n",
      "variant: iii\n",
      "Precision: 0.759167385677308\n",
      "Recall:    0.75\n",
      "F1 score:  0.7506877640924212\n",
      "-----------------------------\n",
      "variant: iv\n",
      "Precision: 0.632029273335691\n",
      "Recall:    0.6016949152542372\n",
      "F1 score:  0.5968669748330766\n",
      "-----------------------------\n"
     ]
    }
   ],
   "source": [
    "for name, (clf, _) in fasttext_results.items():\n",
    "    print(\"variant: {}\".format(name))\n",
    "    _, _, test = variant_dfs[name]\n",
    "    fasttext_show_scores(clf, test)\n",
    "    print('-----------------------------')"
   ]
  },
  {
   "cell_type": "markdown",
   "metadata": {
    "heading_collapsed": true
   },
   "source": [
    "# Flair \n",
    "---"
   ]
  },
  {
   "cell_type": "markdown",
   "metadata": {
    "hidden": true
   },
   "source": [
    "[GoogleColab Jupyter Notebook](https://colab.research.google.com/drive/1Jeg72iqFkGkr9FHwIpYCS2Ps9aw9vpT6#scrollTo=byVout5-o4yI)"
   ]
  }
 ],
 "metadata": {
  "kernelspec": {
   "display_name": "Python 3",
   "language": "python",
   "name": "python3"
  },
  "language_info": {
   "codemirror_mode": {
    "name": "ipython",
    "version": 3
   },
   "file_extension": ".py",
   "mimetype": "text/x-python",
   "name": "python",
   "nbconvert_exporter": "python",
   "pygments_lexer": "ipython3",
   "version": "3.7.3"
  }
 },
 "nbformat": 4,
 "nbformat_minor": 2
}
