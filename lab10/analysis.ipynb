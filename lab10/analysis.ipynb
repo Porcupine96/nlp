{
 "cells": [
  {
   "cell_type": "markdown",
   "metadata": {
    "heading_collapsed": true
   },
   "source": [
    "# Setup"
   ]
  },
  {
   "cell_type": "code",
   "execution_count": 1,
   "metadata": {
    "ExecuteTime": {
     "end_time": "2019-05-27T14:28:19.381666Z",
     "start_time": "2019-05-27T14:28:15.675306Z"
    },
    "hidden": true
   },
   "outputs": [],
   "source": [
    "import fastai\n",
    "from fastai.text import *\n",
    "from sentencepiece import SentencePieceProcessor"
   ]
  },
  {
   "cell_type": "code",
   "execution_count": 2,
   "metadata": {
    "ExecuteTime": {
     "end_time": "2019-05-27T14:28:20.120386Z",
     "start_time": "2019-05-27T14:28:19.998401Z"
    },
    "hidden": true
   },
   "outputs": [],
   "source": [
    "wgts_path  = \"./work/up_low50k/models/fwd_v50k_finetune_lm_enc.h5\"\n",
    "model_path = \"./work/up_low50k/tmp/sp-50k.model\"\n",
    "\n",
    "processor = SentencePieceProcessor()\n",
    "processor.Load(model_path)\n",
    "processor.SetEncodeExtraOptions(\"bos:eos\")\n",
    "processor.SetDecodeExtraOptions(\"bos:eos\");"
   ]
  },
  {
   "cell_type": "code",
   "execution_count": 3,
   "metadata": {
    "ExecuteTime": {
     "end_time": "2019-05-27T14:28:21.484517Z",
     "start_time": "2019-05-27T14:28:20.303278Z"
    },
    "hidden": true
   },
   "outputs": [],
   "source": [
    "bptt = 5\n",
    "max_seq = 1000000\n",
    "n_tok = len(processor)\n",
    "emb_sz = 400\n",
    "n_hid = 1150\n",
    "n_layers = 4\n",
    "pad_token = 1\n",
    "bidir = False\n",
    "qrnn = False\n",
    "\n",
    "rnn = MultiBatchRNN(bptt, max_seq, n_tok, emb_sz, n_hid, n_layers, pad_token,\n",
    "                    bidir, qrnn)\n",
    "\n",
    "model = SequentialRNN(rnn, LinearDecoder(n_tok, emb_sz, 0, tie_encoder=rnn.encoder))\n",
    "\n",
    "load_model(model[0], wgts_path)\n",
    "model.reset()\n",
    "model.eval();"
   ]
  },
  {
   "cell_type": "code",
   "execution_count": 8,
   "metadata": {
    "ExecuteTime": {
     "end_time": "2019-05-27T14:30:05.466686Z",
     "start_time": "2019-05-27T14:30:05.458238Z"
    },
    "hidden": true
   },
   "outputs": [],
   "source": [
    "class TextDataset(Dataset):\n",
    "    def __init__(self, x):\n",
    "        self.x = x\n",
    "\n",
    "    def __getitem__(self, idx):\n",
    "        sentence = self.x[idx]\n",
    "        return sentence[:-1], sentence[1:]\n",
    "\n",
    "\n",
    "def next_word(sentence, model): \n",
    "    ids = [np.array(processor.encode_as_ids(sentence))]\n",
    "\n",
    "    dataset = TextDataset(ids)\n",
    "    sampler = SortSampler(ids, key=lambda x: len(ids[x]))\n",
    "    dl = DataLoader(dataset,\n",
    "                    batch_size=100,\n",
    "                    transpose=True,\n",
    "                    pad_idx=1,\n",
    "                    sampler=sampler,\n",
    "                    pre_pad=False)\n",
    "\n",
    "    tensors = None\n",
    "    with no_grad_context():\n",
    "        for (x, y) in dl:\n",
    "            tensors, _, _ = model(x)\n",
    "            \n",
    "    last_tensor = tensors[-1]\n",
    "\n",
    "    best = int(torch.argmax(last_tensor))\n",
    "    word = processor.decode_ids([best])\n",
    "    \n",
    "    while best in ids[0] or not word.isalpha():\n",
    "        last_tensor[best] = -1\n",
    "        best = int(torch.argmax(last_tensor))\n",
    "        word = processor.decode_ids([best])\n",
    "\n",
    "    return word"
   ]
  },
  {
   "cell_type": "code",
   "execution_count": 9,
   "metadata": {
    "ExecuteTime": {
     "end_time": "2019-05-27T14:30:05.831216Z",
     "start_time": "2019-05-27T14:30:05.820177Z"
    },
    "hidden": true
   },
   "outputs": [],
   "source": [
    "def continuation(sentence, model, word_count):\n",
    "    result = \"\"\n",
    "    for _ in range(word_count):\n",
    "        word = next_word(sentence + \" \" + result, model)\n",
    "\n",
    "        if len(word) > 0 and word[0].isalpha() and (\n",
    "                len(word) > 1 or word.lower() in ['a', 'o', 'i', 'w', 'z']):\n",
    "            result += (\" \" + word)\n",
    "        else:\n",
    "            result += word\n",
    "    return result"
   ]
  },
  {
   "cell_type": "markdown",
   "metadata": {
    "heading_collapsed": true
   },
   "source": [
    "# 4"
   ]
  },
  {
   "cell_type": "code",
   "execution_count": 10,
   "metadata": {
    "ExecuteTime": {
     "end_time": "2019-05-27T14:30:08.737880Z",
     "start_time": "2019-05-27T14:30:08.734495Z"
    },
    "hidden": true
   },
   "outputs": [],
   "source": [
    "sentences = [\n",
    "  \"Warszawa to największe\",\n",
    "  \"Te zabawki należą do\",\n",
    "  \"Policjant przygląda się\",\n",
    "  \"Na środku skrzyżowania widać\",\n",
    "  \"Właściciel samochodu widział złodzieja z\",\n",
    "  \"Prezydent z premierem rozmawiali wczoraj o\",\n",
    "  \"Witaj drogi\",\n",
    "]"
   ]
  },
  {
   "cell_type": "code",
   "execution_count": 12,
   "metadata": {
    "ExecuteTime": {
     "end_time": "2019-05-27T14:32:03.623532Z",
     "start_time": "2019-05-27T14:31:12.379796Z"
    },
    "hidden": true
   },
   "outputs": [
    {
     "name": "stdout",
     "output_type": "stream",
     "text": [
      "||Warszawa to największe|| miasto w Polsce i na świecie jest największym miastem Polski oraz jednym z największ ych miast regionu kujawsko o środek ciężkości ruchu turystycznego do centrum miasta Katowice przy ule Grunwaldzk i i i i i i i i i i i i i i\n",
      "\n",
      "\n",
      "\n",
      "||Te zabawki należą do|| najbardziej popularnych i cenion ych w Polsce oraz na świecie z powodzeniem są dostępne dla najmłodszych dzieci podczas wakacj ów ch łód ek wi aer tyr omer type de la vi am elr ijk en\n",
      "\n",
      "\n",
      "\n",
      "||Policjant przygląda się|| temu i próbuje go zatrzymać w spokoju na miejscu oraz po rwać z łóżka jego ciało lub głowę jak to możliwe że nie ma nic do straceni a nawet za sypia nie chce mu przeszkadzać ani też pić alkoholu czy narkotyków albo papieros a także\n",
      "\n",
      "\n",
      "\n",
      "||Na środku skrzyżowania widać|| ślady po sobie i w okolicy oraz na ścianach bocznych kościoła św i Jana Chrzciciel a takżeu ch rz z lat pięćdziesiątych XX wieku o tematyce religijn ej am ner o osób świecki mi ał się\n",
      "\n",
      "\n",
      "\n",
      "||Właściciel samochodu widział złodzieja z|| zamiarem zemsty na jego matce i w związku ze śmiercią ojca został zmuszony do opuszczenia domu przez matkę oraz zabiciu jej brata bliźniak ów mężczyzna o imieniu A lina a następnie porwan ie ch ibur ek wi o\n",
      "\n",
      "\n",
      "\n",
      "||Prezydent z premierem rozmawiali wczoraj o|| tym w Bruksel i na konferencji prasow ej a nie jak się okazało że to jest tylko kwestia czasu antenow ego czy też tego co było do tej pory powiedziane przez media bo przecież nikt inny od nas już nigdy nic takiego by sobie życzył\n",
      "\n",
      "\n",
      "\n",
      "||Witaj drogi|| che er am no i nie wiem jak to zrobić w tym temacie bo mam problem z instalacją sterowników do laptopa ale na pewno będzie sz lić za darmo po polsku czy też bez logowania się tam gdzie jest napisane że\n",
      "\n",
      "\n",
      "\n"
     ]
    }
   ],
   "source": [
    "for sentence in sentences:\n",
    "    print(\"||\" + sentence + \"||\" + continuation(sentence, model, 45))\n",
    "    print(\"\\n\\n\")"
   ]
  },
  {
   "cell_type": "markdown",
   "metadata": {
    "heading_collapsed": true
   },
   "source": [
    "# 5"
   ]
  },
  {
   "cell_type": "code",
   "execution_count": 57,
   "metadata": {
    "ExecuteTime": {
     "end_time": "2019-05-27T13:42:54.525425Z",
     "start_time": "2019-05-27T13:42:54.521451Z"
    },
    "hidden": true
   },
   "outputs": [],
   "source": [
    "questions = [\n",
    "    \"Gdybym wiedział wtedy dokładnie to co wiem teraz, to bym się nie\",\n",
    "    \"Gdybym wiedziała wtedy dokładnie to co wiem teraz, to bym się nie\"\n",
    "]"
   ]
  },
  {
   "cell_type": "code",
   "execution_count": 58,
   "metadata": {
    "ExecuteTime": {
     "end_time": "2019-05-27T13:43:43.500048Z",
     "start_time": "2019-05-27T13:42:54.655755Z"
    },
    "hidden": true
   },
   "outputs": [
    {
     "name": "stdout",
     "output_type": "stream",
     "text": [
      "||Gdybym wiedział wtedy dokładnie to co wiem teraz, to bym się nie|| spodziewał że w końcu będzie sz lić i tak jak ja mam do czynienia z tym problemem a może nawet za jakiś czas będę miał problemy ze zdrowiem czy też po prostu mi sie uda bo jestem na urlopie macierzyński ym a więc jest bardzo dobrze ale chyba już dawno nic by mnie o bolał o niebo bardziej niż mój tata który był chory psychicznie od rana aż\n",
      "\n",
      "\n",
      "\n",
      "||Gdybym wiedziała wtedy dokładnie to co wiem teraz, to bym się nie|| spodziewał a ja mam w ielką ochotę na coś takiego jak np z ajebist ym i tak dalej ale chyba jest jeszcze gorzej niż przed wojną bo już dawno mi sie znudził o ile pamiętam ten ostatni był bardzo słaby do tego stopnia że po kilku latach gry zmienił em piku za darmo więc może być lepiej od niego tylko przez internet czy też grę online lub\n",
      "\n",
      "\n",
      "\n"
     ]
    }
   ],
   "source": [
    "for sentence in questions:\n",
    "    print(\"||\" + sentence + \"||\" + continuation(sentence, model, 70))\n",
    "    print(\"\\n\\n\")"
   ]
  },
  {
   "cell_type": "markdown",
   "metadata": {
    "heading_collapsed": true
   },
   "source": [
    "# 6"
   ]
  },
  {
   "cell_type": "code",
   "execution_count": 13,
   "metadata": {
    "ExecuteTime": {
     "end_time": "2019-05-27T14:48:35.966570Z",
     "start_time": "2019-05-27T14:48:35.963588Z"
    },
    "hidden": true
   },
   "outputs": [],
   "source": [
    "text = \"Polscy naukowcy odkryli w Tatrach nowy gatunek istoty żywej. Zwięrzę to przypomina małpę, lecz porusza się na dwóch nogach i potrafi posługiwać się narzędziami. Przy dłuższej obserwacji okazało się, że potrafi również posługiwać się językiem polskim, a konkretnie gwarą podhalańską. Zwierzę to zostało nazwane\""
   ]
  },
  {
   "cell_type": "code",
   "execution_count": 16,
   "metadata": {
    "ExecuteTime": {
     "end_time": "2019-05-27T14:52:29.113502Z",
     "start_time": "2019-05-27T14:51:50.262565Z"
    },
    "hidden": true
   },
   "outputs": [
    {
     "name": "stdout",
     "output_type": "stream",
     "text": [
      "||Polscy naukowcy odkryli w Tatrach nowy gatunek istoty żywej. Zwięrzę to przypomina małpę, lecz porusza się na dwóch nogach i potrafi posługiwać się narzędziami. Przy dłuższej obserwacji okazało się, że potrafi również posługiwać się językiem polskim, a konkretnie gwarą podhalańską. Zwierzę to zostało nazwane|| przez niego jako podgatun ce zarż nięty ch ibr ów osób o imieniu racował lub jego przodku oraz ich potomk om ni os wiadczeń do nich nie jest ani słowem nic zł ego albo co innego niż te które są używane przy ustalani ome ac tio di stri a cc ac ad di dic tum o a\n"
     ]
    }
   ],
   "source": [
    "print(\"||\" + text + \"||\" + continuation(text, model, 70))"
   ]
  },
  {
   "cell_type": "markdown",
   "metadata": {},
   "source": [
    "# Other"
   ]
  },
  {
   "cell_type": "code",
   "execution_count": 24,
   "metadata": {
    "ExecuteTime": {
     "end_time": "2019-05-27T14:00:33.052136Z",
     "start_time": "2019-05-27T14:00:33.048555Z"
    }
   },
   "outputs": [],
   "source": [
    "jokes = [\n",
    "  \"Chuck Norris\",\n",
    "  \"Co Chuck Norris\",\n",
    "  \"Co Chuck Norris zrobi\",\n",
    "  \"Chuck Norris to\",\n",
    "  \"Chuck Norris jest\",\n",
    "  \"Tylko Chuck Norris potrafi\",\n",
    "  \"Przychodzi baba\",\n",
    "  \"Przychodzi baba do\",\n",
    "  \"Przychodzi baba do lekarza, a\",\n",
    "  \"Przychodzi zezowata baba do\",\n",
    "  \"Przychodzi baba do lekarza i mówi\"\n",
    "]"
   ]
  },
  {
   "cell_type": "code",
   "execution_count": 31,
   "metadata": {
    "ExecuteTime": {
     "end_time": "2019-05-27T14:04:23.072176Z",
     "start_time": "2019-05-27T14:02:53.980952Z"
    }
   },
   "outputs": [
    {
     "name": "stdout",
     "output_type": "stream",
     "text": [
      "||Chuck Norris|| jest żonaty i ma dwoje dzieci z pierwszego małżeństwa oraz syna bliźniak a także córkę Ann ettes Jr i siostrę Elizabeth Margaret Thatcher w wieku dwudziestu pięciu lat po ślubie ze swoją siostrą Karoliną We sley woody and the world\n",
      "\n",
      "\n",
      "\n",
      "||Co Chuck Norris|| ma w głowie i jak a kompanie są na prawde to nie ch cac ej a ty zyj ał się osód ło tu po ci em o tym co jest dla ciebie najważniejsze ze wszystkich ludzi do\n",
      "\n",
      "\n",
      "\n",
      "||Co Chuck Norris zrobi|| w tym roku to będzie już na pewno lepiej niż teraz i nie ch cac ej a ja mam nadzieję że się uda do tego czasu z nów po prostu za bije mnie jak o brzyd otyń bo jest tak samo dobrze ale\n",
      "\n",
      "\n",
      "\n",
      "||Chuck Norris to|| nie tylko muzyka i taniec ale także rozrywk a przede wszystkim zabawa w rytm muzyki klasycznej oraz tańce ludowe z elementami jazzu czy folku na żywo lub koncert ów zespół muzyczny ze Szczecina do Krakowa po polsku bądź też zagranicą za granicą przez\n",
      "\n",
      "\n",
      "\n",
      "||Chuck Norris jest|| żonaty i ma dwoje dzieci z pierwszego małżeństwa oraz syna bliźniak a także córkę Ann ettes Jr i siostrę Elizabeth Margaret Thatcher w wieku dwudziestu pięciu lat po ślubie ze swoją siostrą Karoliną We sley woody and the world of\n",
      "\n",
      "\n",
      "\n",
      "||Tylko Chuck Norris potrafi|| wy robić wszystko co chce i nie ma ochoty na to by się z nim ożenić a potem po prostu go kochac bo on jest jego przyjacielem ale ja mam takie samo zdanie jak Ty niż ty jesteś głupi a może nawet\n",
      "\n",
      "\n",
      "\n",
      "||Przychodzi baba|| do lekarza i pyta czy jest to normalne że nie ma co się martwić o zdrowie w szpitalu a może coś innego niż choroba nowotworową lub cukrzycę typu I z powodu niewydolności nerek oraz zapalenia oskrzeliu po spożyci ach i innych\n",
      "\n",
      "\n",
      "\n",
      "||Przychodzi baba do|| lekarza i pyta czy jest to normalne że nie ma co się martwić o zdrowie w szpitalu a może coś innego niż choroba nowotworową lub cukrzycę typu I z powodu niewydolności nerek oraz zapalenia oskrzeliu po spożyci ach i innych schorzenia\n",
      "\n",
      "\n",
      "\n",
      "||Przychodzi baba do lekarza, a|| ja mam pytanie czy to nie jest problem z tym że wy czytał em o czym piszesz i co zrobił eś na pewno będzie sz lić za te wszystkie bzdur ne i tak dalej bo jak się ma prawo pisać po polsku tylko\n",
      "\n",
      "\n",
      "\n",
      "||Przychodzi zezowata baba do|| domu i wy latuje na kanap ie z psem a potem po prostu nie chce się bawić bo to jest tylko zwykły żart dla mnie jak aś ram ka ga go zar żeń nić za słu dzi ej kie mi o\n",
      "\n",
      "\n",
      "\n",
      "||Przychodzi baba do lekarza i mówi|| że to nie jest tak jak byś chciał żebym się z nim rozmawiał w tym temacie a ja mam takie pytanie czy ktoś ma jakieś pomysły na zrobienie czegoś takiego co może być przydatne dla mnie po porodzie lub też za chwilę będzie mi\n",
      "\n",
      "\n",
      "\n"
     ]
    }
   ],
   "source": [
    "for sentence in jokes:\n",
    "    print(\"||\" + sentence + \"||\" + continuation(sentence, model, 45))\n",
    "    print(\"\\n\\n\")"
   ]
  },
  {
   "cell_type": "code",
   "execution_count": null,
   "metadata": {},
   "outputs": [],
   "source": []
  }
 ],
 "metadata": {
  "kernelspec": {
   "display_name": "3.6.5_2",
   "language": "python",
   "name": "3.6.5_2"
  },
  "language_info": {
   "codemirror_mode": {
    "name": "ipython",
    "version": 3
   },
   "file_extension": ".py",
   "mimetype": "text/x-python",
   "name": "python",
   "nbconvert_exporter": "python",
   "pygments_lexer": "ipython3",
   "version": "3.6.5"
  }
 },
 "nbformat": 4,
 "nbformat_minor": 2
}
