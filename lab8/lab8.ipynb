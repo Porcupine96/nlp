{
 "cells": [
  {
   "cell_type": "markdown",
   "metadata": {
    "heading_collapsed": true
   },
   "source": [
    "# Setup\n",
    "---"
   ]
  },
  {
   "cell_type": "code",
   "execution_count": 1,
   "metadata": {
    "ExecuteTime": {
     "end_time": "2019-05-12T17:31:24.450815Z",
     "start_time": "2019-05-12T17:31:24.399695Z"
    },
    "hidden": true
   },
   "outputs": [],
   "source": [
    "%load_ext autoreload\n",
    "%autoreload 2"
   ]
  },
  {
   "cell_type": "code",
   "execution_count": 2,
   "metadata": {
    "ExecuteTime": {
     "end_time": "2019-05-12T17:31:26.773464Z",
     "start_time": "2019-05-12T17:31:24.925346Z"
    },
    "hidden": true
   },
   "outputs": [],
   "source": [
    "import warnings\n",
    "import pandas as pd\n",
    "import matplotlib.pyplot as plt\n",
    "\n",
    "from regex import regex\n",
    "from preprocess import preprocess_all\n",
    "from util import read_bills, read_stopwords, split_ttf\n",
    "from variants import variant_i, variant_ii, variant_iii, variant_iv"
   ]
  },
  {
   "cell_type": "code",
   "execution_count": 3,
   "metadata": {
    "ExecuteTime": {
     "end_time": "2019-05-12T17:31:26.794957Z",
     "start_time": "2019-05-12T17:31:26.776026Z"
    },
    "hidden": true
   },
   "outputs": [],
   "source": [
    "warnings.filterwarnings('ignore')"
   ]
  },
  {
   "cell_type": "code",
   "execution_count": 4,
   "metadata": {
    "ExecuteTime": {
     "end_time": "2019-05-12T17:31:28.182631Z",
     "start_time": "2019-05-12T17:31:26.797846Z"
    },
    "hidden": true
   },
   "outputs": [],
   "source": [
    "bills = read_bills('../lab1/data')"
   ]
  },
  {
   "cell_type": "code",
   "execution_count": 5,
   "metadata": {
    "ExecuteTime": {
     "end_time": "2019-05-12T17:31:28.843199Z",
     "start_time": "2019-05-12T17:31:28.185827Z"
    },
    "hidden": true
   },
   "outputs": [
    {
     "name": "stdout",
     "output_type": "stream",
     "text": [
      "Could not resolve header for 1996_400.txt\n"
     ]
    }
   ],
   "source": [
    "df = preprocess_all(bills)"
   ]
  },
  {
   "cell_type": "code",
   "execution_count": 6,
   "metadata": {
    "ExecuteTime": {
     "end_time": "2019-05-12T17:31:28.876668Z",
     "start_time": "2019-05-12T17:31:28.845723Z"
    },
    "hidden": true
   },
   "outputs": [
    {
     "data": {
      "text/plain": [
       "count     1178\n",
       "unique       2\n",
       "top       True\n",
       "freq       610\n",
       "Name: is_amendment, dtype: object"
      ]
     },
     "execution_count": 6,
     "metadata": {},
     "output_type": "execute_result"
    }
   ],
   "source": [
    "df['is_amendment'].describe()"
   ]
  },
  {
   "cell_type": "code",
   "execution_count": 7,
   "metadata": {
    "ExecuteTime": {
     "end_time": "2019-05-12T17:31:28.901234Z",
     "start_time": "2019-05-12T17:31:28.879138Z"
    },
    "hidden": true
   },
   "outputs": [],
   "source": [
    "train, test, validation = split_ttf(df)"
   ]
  },
  {
   "cell_type": "code",
   "execution_count": 8,
   "metadata": {
    "ExecuteTime": {
     "end_time": "2019-05-12T17:31:31.237546Z",
     "start_time": "2019-05-12T17:31:31.213979Z"
    },
    "hidden": true
   },
   "outputs": [
    {
     "name": "stdout",
     "output_type": "stream",
     "text": [
      "train      706\n",
      "test       236\n",
      "validation 236\n"
     ]
    }
   ],
   "source": [
    "print('train      {}'.format(len(train)))\n",
    "print('test       {}'.format(len(test)))\n",
    "print('validation {}'.format(len(validation)))"
   ]
  },
  {
   "cell_type": "markdown",
   "metadata": {},
   "source": [
    "# SVM + TF-IDF\n",
    "---"
   ]
  },
  {
   "cell_type": "markdown",
   "metadata": {
    "heading_collapsed": true
   },
   "source": [
    "## Analysis"
   ]
  },
  {
   "cell_type": "code",
   "execution_count": 92,
   "metadata": {
    "ExecuteTime": {
     "end_time": "2019-05-12T22:54:41.646523Z",
     "start_time": "2019-05-12T22:54:41.548889Z"
    },
    "hidden": true
   },
   "outputs": [],
   "source": [
    "from sklearn.metrics import precision_recall_fscore_support\n",
    "from sklearn.feature_extraction.text import TfidfVectorizer, CountVectorizer\n",
    "\n",
    "from preprocess import extract_tokens\n",
    "from util import build_vocabulary\n",
    "from svm import teach_svm, evaluate\n",
    "from vis import plot_metrics_for"
   ]
  },
  {
   "cell_type": "code",
   "execution_count": 15,
   "metadata": {
    "ExecuteTime": {
     "end_time": "2019-05-12T17:36:31.677648Z",
     "start_time": "2019-05-12T17:36:31.643241Z"
    },
    "hidden": true
   },
   "outputs": [],
   "source": [
    "stopwords = read_stopwords('./stopwords-pl.txt')"
   ]
  },
  {
   "cell_type": "code",
   "execution_count": 27,
   "metadata": {
    "ExecuteTime": {
     "end_time": "2019-05-12T19:28:26.886791Z",
     "start_time": "2019-05-12T19:28:22.322015Z"
    },
    "hidden": true
   },
   "outputs": [],
   "source": [
    "vocabulary = build_vocabulary(df, drop_threshold=1000, drop_exceptions=['\"ust.', '\"art.'])"
   ]
  },
  {
   "cell_type": "code",
   "execution_count": 16,
   "metadata": {
    "ExecuteTime": {
     "end_time": "2019-05-12T17:36:32.206577Z",
     "start_time": "2019-05-12T17:36:32.152971Z"
    },
    "hidden": true
   },
   "outputs": [
    {
     "data": {
      "text/html": [
       "<div>\n",
       "<style scoped>\n",
       "    .dataframe tbody tr th:only-of-type {\n",
       "        vertical-align: middle;\n",
       "    }\n",
       "\n",
       "    .dataframe tbody tr th {\n",
       "        vertical-align: top;\n",
       "    }\n",
       "\n",
       "    .dataframe thead th {\n",
       "        text-align: right;\n",
       "    }\n",
       "</style>\n",
       "<table border=\"1\" class=\"dataframe\">\n",
       "  <thead>\n",
       "    <tr style=\"text-align: right;\">\n",
       "      <th></th>\n",
       "      <th>bill_file</th>\n",
       "      <th>text</th>\n",
       "      <th>is_amendment</th>\n",
       "    </tr>\n",
       "  </thead>\n",
       "  <tbody>\n",
       "    <tr>\n",
       "      <th>count</th>\n",
       "      <td>706</td>\n",
       "      <td>706</td>\n",
       "      <td>706</td>\n",
       "    </tr>\n",
       "    <tr>\n",
       "      <th>unique</th>\n",
       "      <td>706</td>\n",
       "      <td>706</td>\n",
       "      <td>2</td>\n",
       "    </tr>\n",
       "    <tr>\n",
       "      <th>top</th>\n",
       "      <td>1997_684.txt</td>\n",
       "      <td>Art. 1.\\n\\nW ustawie z dnia 4 marca 1994 r. o ...</td>\n",
       "      <td>True</td>\n",
       "    </tr>\n",
       "    <tr>\n",
       "      <th>freq</th>\n",
       "      <td>1</td>\n",
       "      <td>1</td>\n",
       "      <td>364</td>\n",
       "    </tr>\n",
       "  </tbody>\n",
       "</table>\n",
       "</div>"
      ],
      "text/plain": [
       "           bill_file                                               text  \\\n",
       "count            706                                                706   \n",
       "unique           706                                                706   \n",
       "top     1997_684.txt  Art. 1.\\n\\nW ustawie z dnia 4 marca 1994 r. o ...   \n",
       "freq               1                                                  1   \n",
       "\n",
       "       is_amendment  \n",
       "count           706  \n",
       "unique            2  \n",
       "top            True  \n",
       "freq            364  "
      ]
     },
     "execution_count": 16,
     "metadata": {},
     "output_type": "execute_result"
    }
   ],
   "source": [
    "train.describe()"
   ]
  },
  {
   "cell_type": "code",
   "execution_count": 23,
   "metadata": {
    "ExecuteTime": {
     "end_time": "2019-05-12T19:25:55.446330Z",
     "start_time": "2019-05-12T18:53:06.513298Z"
    },
    "hidden": true
   },
   "outputs": [
    {
     "name": "stdout",
     "output_type": "stream",
     "text": [
      "Score 0.7288135593220338 for tol=1e-11, c=0.1, kernel=linear, drop=0\n",
      "Score 0.8008474576271186 for tol=1e-11, c=1, kernel=linear, drop=0\n",
      "Score 0.809322033898305 for tol=1, c=100, kernel=linear, drop=0\n",
      "Score 0.8177966101694916 for tol=1e-11, c=1, kernel=linear, drop=1000\n",
      "Score 0.8347457627118644 for tol=1e-11, c=100, kernel=rbf, drop=1000\n"
     ]
    }
   ],
   "source": [
    "clf, metrics = teach_svm(train, validation, df, stopwords)"
   ]
  },
  {
   "cell_type": "code",
   "execution_count": 28,
   "metadata": {
    "ExecuteTime": {
     "end_time": "2019-05-12T19:28:43.056090Z",
     "start_time": "2019-05-12T19:28:42.349775Z"
    },
    "hidden": true
   },
   "outputs": [
    {
     "data": {
      "text/plain": [
       "0.8601694915254238"
      ]
     },
     "execution_count": 28,
     "metadata": {},
     "output_type": "execute_result"
    }
   ],
   "source": [
    "evaluate(test, clf, vocabulary, stopwords)"
   ]
  },
  {
   "cell_type": "code",
   "execution_count": 33,
   "metadata": {
    "ExecuteTime": {
     "end_time": "2019-05-12T19:33:39.329885Z",
     "start_time": "2019-05-12T19:33:39.300873Z"
    },
    "hidden": true
   },
   "outputs": [],
   "source": [
    "def predict(clf, df):\n",
    "    vectorizer = TfidfVectorizer(vocabulary=vocabulary, stop_words=stopwords)\n",
    "    X = vectorizer.fit_transform(df['text'])\n",
    "    return clf.predict(X)"
   ]
  },
  {
   "cell_type": "code",
   "execution_count": 43,
   "metadata": {
    "ExecuteTime": {
     "end_time": "2019-05-12T19:40:21.835362Z",
     "start_time": "2019-05-12T19:40:21.804929Z"
    },
    "hidden": true
   },
   "outputs": [],
   "source": [
    "def show_scores(clf, df):\n",
    "    p, r, f1, _ = precision_recall_fscore_support(\n",
    "        df['is_amendment'], predict(clf, df), average='weighted')\n",
    "    \n",
    "    print('Precision: {0}'.format(p))\n",
    "    print('Recall:    {0}'.format(r))\n",
    "    print('F1 score:  {0}'.format(f1))"
   ]
  },
  {
   "cell_type": "code",
   "execution_count": 44,
   "metadata": {
    "ExecuteTime": {
     "end_time": "2019-05-12T19:40:23.282916Z",
     "start_time": "2019-05-12T19:40:22.556559Z"
    },
    "hidden": true
   },
   "outputs": [
    {
     "name": "stdout",
     "output_type": "stream",
     "text": [
      "Precision: 0.8614231180332875\n",
      "Recall:    0.8601694915254238\n",
      "F1 score:  0.8604095547459006\n"
     ]
    }
   ],
   "source": [
    "show_scores(clf, test)"
   ]
  },
  {
   "cell_type": "code",
   "execution_count": 100,
   "metadata": {
    "ExecuteTime": {
     "end_time": "2019-05-12T23:01:21.371076Z",
     "start_time": "2019-05-12T23:01:18.097069Z"
    },
    "hidden": true
   },
   "outputs": [
    {
     "data": {
      "image/png": "[encoded data removed]",
      "text/plain": [
       "<Figure size 1296x288 with 4 Axes>"
      ]
     },
     "metadata": {
      "needs_background": "light"
     },
     "output_type": "display_data"
    },
    {
     "data": {
      "image/png": "[encoded data removed]",
      "text/plain": [
       "<Figure size 1296x288 with 4 Axes>"
      ]
     },
     "metadata": {
      "needs_background": "light"
     },
     "output_type": "display_data"
    },
    {
     "data": {
      "image/png": "[encoded data removed]",
      "text/plain": [
       "<Figure size 1296x288 with 4 Axes>"
      ]
     },
     "metadata": {
      "needs_background": "light"
     },
     "output_type": "display_data"
    }
   ],
   "source": [
    "plot_metrics_for('C', metrics)\n",
    "plot_metrics_for('tol', metrics)\n",
    "plot_metrics_for('drop_threshold', metrics)"
   ]
  },
  {
   "cell_type": "markdown",
   "metadata": {},
   "source": [
    "## Results"
   ]
  },
  {
   "cell_type": "code",
   "execution_count": 131,
   "metadata": {
    "ExecuteTime": {
     "end_time": "2019-05-12T23:24:56.471397Z",
     "start_time": "2019-05-12T23:24:56.441906Z"
    }
   },
   "outputs": [],
   "source": [
    "from variants import *"
   ]
  },
  {
   "cell_type": "code",
   "execution_count": null,
   "metadata": {},
   "outputs": [],
   "source": []
  },
  {
   "cell_type": "code",
   "execution_count": null,
   "metadata": {},
   "outputs": [],
   "source": []
  },
  {
   "cell_type": "code",
   "execution_count": null,
   "metadata": {},
   "outputs": [],
   "source": []
  },
  {
   "cell_type": "code",
   "execution_count": null,
   "metadata": {},
   "outputs": [],
   "source": []
  },
  {
   "cell_type": "code",
   "execution_count": null,
   "metadata": {},
   "outputs": [],
   "source": []
  },
  {
   "cell_type": "markdown",
   "metadata": {},
   "source": [
    "# Fasttext\n",
    "---"
   ]
  },
  {
   "cell_type": "code",
   "execution_count": 144,
   "metadata": {
    "ExecuteTime": {
     "end_time": "2019-05-12T23:37:54.552660Z",
     "start_time": "2019-05-12T23:37:54.478412Z"
    }
   },
   "outputs": [],
   "source": [
    "from fastText import FastText\n",
    "from fasttext import prepare_files"
   ]
  },
  {
   "cell_type": "code",
   "execution_count": 145,
   "metadata": {
    "ExecuteTime": {
     "end_time": "2019-05-12T23:39:36.661014Z",
     "start_time": "2019-05-12T23:39:36.614968Z"
    }
   },
   "outputs": [],
   "source": [
    "ft = df.copy()"
   ]
  },
  {
   "cell_type": "code",
   "execution_count": null,
   "metadata": {},
   "outputs": [],
   "source": []
  },
  {
   "cell_type": "code",
   "execution_count": null,
   "metadata": {},
   "outputs": [],
   "source": [
    "model = fastText.train_supervised(\"data.bak/train.csv\",lr=0.7,epoch = 20)"
   ]
  },
  {
   "cell_type": "code",
   "execution_count": null,
   "metadata": {},
   "outputs": [],
   "source": []
  },
  {
   "cell_type": "code",
   "execution_count": null,
   "metadata": {},
   "outputs": [],
   "source": []
  },
  {
   "cell_type": "code",
   "execution_count": null,
   "metadata": {},
   "outputs": [],
   "source": []
  },
  {
   "cell_type": "code",
   "execution_count": null,
   "metadata": {},
   "outputs": [],
   "source": []
  },
  {
   "cell_type": "markdown",
   "metadata": {},
   "source": [
    "# Flair \n",
    "---"
   ]
  },
  {
   "cell_type": "code",
   "execution_count": null,
   "metadata": {},
   "outputs": [],
   "source": []
  },
  {
   "cell_type": "code",
   "execution_count": null,
   "metadata": {},
   "outputs": [],
   "source": []
  }
 ],
 "metadata": {
  "kernelspec": {
   "display_name": "Python 3",
   "language": "python",
   "name": "python3"
  },
  "language_info": {
   "codemirror_mode": {
    "name": "ipython",
    "version": 3
   },
   "file_extension": ".py",
   "mimetype": "text/x-python",
   "name": "python",
   "nbconvert_exporter": "python",
   "pygments_lexer": "ipython3",
   "version": "3.7.3"
  }
 },
 "nbformat": 4,
 "nbformat_minor": 2
}
